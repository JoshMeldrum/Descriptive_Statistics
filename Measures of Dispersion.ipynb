{
 "cells": [
  {
   "cell_type": "code",
   "execution_count": 1,
   "id": "6a37dede",
   "metadata": {},
   "outputs": [
    {
     "data": {
      "text/plain": [
       "29"
      ]
     },
     "execution_count": 1,
     "metadata": {},
     "output_type": "execute_result"
    }
   ],
   "source": [
    "points = [-4,  17,  25,  19,  6,  11,  7]\n",
    "max(points)-min(points)"
   ]
  },
  {
   "cell_type": "code",
   "execution_count": 9,
   "id": "c710bf43",
   "metadata": {},
   "outputs": [
    {
     "data": {
      "text/plain": [
       "2.804757862395017"
      ]
     },
     "execution_count": 9,
     "metadata": {},
     "output_type": "execute_result"
    }
   ],
   "source": [
    "import statistics as stats\n",
    "data = [2,4,7,1,6,8]\n",
    "stats.stdev(data)\n"
   ]
  },
  {
   "cell_type": "code",
   "execution_count": 10,
   "id": "ec0341f0",
   "metadata": {},
   "outputs": [
    {
     "data": {
      "text/plain": [
       "4.131182235954578"
      ]
     },
     "execution_count": 10,
     "metadata": {},
     "output_type": "execute_result"
    }
   ],
   "source": [
    "data = [2,4,7,1,12,8]\n",
    "stats.stdev(data)"
   ]
  },
  {
   "cell_type": "code",
   "execution_count": 11,
   "id": "cae23612",
   "metadata": {},
   "outputs": [],
   "source": [
    "# Standard Deviation increases"
   ]
  },
  {
   "cell_type": "code",
   "execution_count": 13,
   "id": "4f3b1051",
   "metadata": {},
   "outputs": [],
   "source": [
    "# Yes, standard deviation of 0 is possible\n",
    "# Example x = [5,5,5,5,5,5]"
   ]
  },
  {
   "cell_type": "code",
   "execution_count": 14,
   "id": "67ccbe35",
   "metadata": {},
   "outputs": [],
   "source": [
    "# difference from the mean\n",
    "# (x - mean(x))\n",
    "# deviation can be negative"
   ]
  },
  {
   "cell_type": "code",
   "execution_count": 15,
   "id": "e30ab245",
   "metadata": {},
   "outputs": [
    {
     "name": "stdout",
     "output_type": "stream",
     "text": [
      "Deviation for item:  23 is:  -18.5\n",
      "Deviation for item:  12 is:  -29.5\n",
      "Deviation for item:  34 is:  -7.5\n",
      "Deviation for item:  65 is:  23.5\n",
      "Deviation for item:  34 is:  -7.5\n",
      "Deviation for item:  81 is:  39.5\n"
     ]
    }
   ],
   "source": [
    "data = [23, 12, 34, 65, 34, 81]\n",
    "for item in data:\n",
    "    print(\"Deviation for item: \", item, \"is: \", item - stats.mean(data))\n"
   ]
  },
  {
   "cell_type": "code",
   "execution_count": null,
   "id": "2c42f998",
   "metadata": {},
   "outputs": [],
   "source": [
    "# variance is squared, std dev is not"
   ]
  }
 ],
 "metadata": {
  "kernelspec": {
   "display_name": "Python 3",
   "language": "python",
   "name": "python3"
  },
  "language_info": {
   "codemirror_mode": {
    "name": "ipython",
    "version": 3
   },
   "file_extension": ".py",
   "mimetype": "text/x-python",
   "name": "python",
   "nbconvert_exporter": "python",
   "pygments_lexer": "ipython3",
   "version": "3.8.8"
  }
 },
 "nbformat": 4,
 "nbformat_minor": 5
}
